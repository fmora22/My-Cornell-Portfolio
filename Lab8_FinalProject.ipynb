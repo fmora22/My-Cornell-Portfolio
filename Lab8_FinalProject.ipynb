{
 "cells": [
  {
   "cell_type": "markdown",
   "metadata": {},
   "source": [
    "# Lab 8: Define and Solve an ML Problem of Your Choosing"
   ]
  },
  {
   "cell_type": "code",
   "execution_count": 30,
   "metadata": {},
   "outputs": [],
   "source": [
    "import pandas as pd\n",
    "import numpy as np\n",
    "import os \n",
    "import matplotlib.pyplot as plt\n",
    "import seaborn as sns"
   ]
  },
  {
   "cell_type": "markdown",
   "metadata": {},
   "source": [
    "In this lab assignment, you will follow the machine learning life cycle and implement a model to solve a machine learning problem of your choosing. You will select a data set and choose a predictive problem that the data set supports.  You will then inspect the data with your problem in mind and begin to formulate a  project plan. You will then implement the machine learning project plan. \n",
    "\n",
    "You will complete the following tasks:\n",
    "\n",
    "1. Build Your DataFrame\n",
    "2. Define Your ML Problem\n",
    "3. Perform exploratory data analysis to understand your data.\n",
    "4. Define Your Project Plan\n",
    "5. Implement Your Project Plan:\n",
    "    * Prepare your data for your model.\n",
    "    * Fit your model to the training data and evaluate your model.\n",
    "    * Improve your model's performance."
   ]
  },
  {
   "cell_type": "markdown",
   "metadata": {},
   "source": [
    "## Part 1: Build Your DataFrame\n",
    "\n",
    "You will have the option to choose one of four data sets that you have worked with in this program:\n",
    "\n",
    "* The \"census\" data set that contains Census information from 1994: `censusData.csv`\n",
    "* Airbnb NYC \"listings\" data set: `airbnbListingsData.csv`\n",
    "* World Happiness Report (WHR) data set: `WHR2018Chapter2OnlineData.csv`\n",
    "* Book Review data set: `bookReviewsData.csv`\n",
    "\n",
    "Note that these are variations of the data sets that you have worked with in this program. For example, some do not include some of the preprocessing necessary for specific models. \n",
    "\n",
    "#### Load a Data Set and Save it as a Pandas DataFrame\n",
    "\n",
    "The code cell below contains filenames (path + filename) for each of the four data sets available to you.\n",
    "\n",
    "<b>Task:</b> In the code cell below, use the same method you have been using to load the data using `pd.read_csv()` and save it to DataFrame `df`. \n",
    "\n",
    "You can load each file as a new DataFrame to inspect the data before choosing your data set."
   ]
  },
  {
   "cell_type": "code",
   "execution_count": 31,
   "metadata": {},
   "outputs": [
    {
     "data": {
      "text/html": [
       "<div>\n",
       "<style scoped>\n",
       "    .dataframe tbody tr th:only-of-type {\n",
       "        vertical-align: middle;\n",
       "    }\n",
       "\n",
       "    .dataframe tbody tr th {\n",
       "        vertical-align: top;\n",
       "    }\n",
       "\n",
       "    .dataframe thead th {\n",
       "        text-align: right;\n",
       "    }\n",
       "</style>\n",
       "<table border=\"1\" class=\"dataframe\">\n",
       "  <thead>\n",
       "    <tr style=\"text-align: right;\">\n",
       "      <th></th>\n",
       "      <th>age</th>\n",
       "      <th>workclass</th>\n",
       "      <th>fnlwgt</th>\n",
       "      <th>education</th>\n",
       "      <th>education-num</th>\n",
       "      <th>marital-status</th>\n",
       "      <th>occupation</th>\n",
       "      <th>relationship</th>\n",
       "      <th>race</th>\n",
       "      <th>sex_selfID</th>\n",
       "      <th>capital-gain</th>\n",
       "      <th>capital-loss</th>\n",
       "      <th>hours-per-week</th>\n",
       "      <th>native-country</th>\n",
       "      <th>income_binary</th>\n",
       "    </tr>\n",
       "  </thead>\n",
       "  <tbody>\n",
       "    <tr>\n",
       "      <th>0</th>\n",
       "      <td>39.0</td>\n",
       "      <td>State-gov</td>\n",
       "      <td>77516</td>\n",
       "      <td>Bachelors</td>\n",
       "      <td>13</td>\n",
       "      <td>Never-married</td>\n",
       "      <td>Adm-clerical</td>\n",
       "      <td>Not-in-family</td>\n",
       "      <td>White</td>\n",
       "      <td>Non-Female</td>\n",
       "      <td>2174</td>\n",
       "      <td>0</td>\n",
       "      <td>40.0</td>\n",
       "      <td>United-States</td>\n",
       "      <td>&lt;=50K</td>\n",
       "    </tr>\n",
       "    <tr>\n",
       "      <th>1</th>\n",
       "      <td>50.0</td>\n",
       "      <td>Self-emp-not-inc</td>\n",
       "      <td>83311</td>\n",
       "      <td>Bachelors</td>\n",
       "      <td>13</td>\n",
       "      <td>Married-civ-spouse</td>\n",
       "      <td>Exec-managerial</td>\n",
       "      <td>Husband</td>\n",
       "      <td>White</td>\n",
       "      <td>Non-Female</td>\n",
       "      <td>0</td>\n",
       "      <td>0</td>\n",
       "      <td>13.0</td>\n",
       "      <td>United-States</td>\n",
       "      <td>&lt;=50K</td>\n",
       "    </tr>\n",
       "    <tr>\n",
       "      <th>2</th>\n",
       "      <td>38.0</td>\n",
       "      <td>Private</td>\n",
       "      <td>215646</td>\n",
       "      <td>HS-grad</td>\n",
       "      <td>9</td>\n",
       "      <td>Divorced</td>\n",
       "      <td>Handlers-cleaners</td>\n",
       "      <td>Not-in-family</td>\n",
       "      <td>White</td>\n",
       "      <td>Non-Female</td>\n",
       "      <td>0</td>\n",
       "      <td>0</td>\n",
       "      <td>40.0</td>\n",
       "      <td>United-States</td>\n",
       "      <td>&lt;=50K</td>\n",
       "    </tr>\n",
       "    <tr>\n",
       "      <th>3</th>\n",
       "      <td>53.0</td>\n",
       "      <td>Private</td>\n",
       "      <td>234721</td>\n",
       "      <td>11th</td>\n",
       "      <td>7</td>\n",
       "      <td>Married-civ-spouse</td>\n",
       "      <td>Handlers-cleaners</td>\n",
       "      <td>Husband</td>\n",
       "      <td>Black</td>\n",
       "      <td>Non-Female</td>\n",
       "      <td>0</td>\n",
       "      <td>0</td>\n",
       "      <td>40.0</td>\n",
       "      <td>United-States</td>\n",
       "      <td>&lt;=50K</td>\n",
       "    </tr>\n",
       "    <tr>\n",
       "      <th>4</th>\n",
       "      <td>28.0</td>\n",
       "      <td>Private</td>\n",
       "      <td>338409</td>\n",
       "      <td>Bachelors</td>\n",
       "      <td>13</td>\n",
       "      <td>Married-civ-spouse</td>\n",
       "      <td>Prof-specialty</td>\n",
       "      <td>Wife</td>\n",
       "      <td>Black</td>\n",
       "      <td>Female</td>\n",
       "      <td>0</td>\n",
       "      <td>0</td>\n",
       "      <td>40.0</td>\n",
       "      <td>Cuba</td>\n",
       "      <td>&lt;=50K</td>\n",
       "    </tr>\n",
       "  </tbody>\n",
       "</table>\n",
       "</div>"
      ],
      "text/plain": [
       "    age         workclass  fnlwgt  education  education-num  \\\n",
       "0  39.0         State-gov   77516  Bachelors             13   \n",
       "1  50.0  Self-emp-not-inc   83311  Bachelors             13   \n",
       "2  38.0           Private  215646    HS-grad              9   \n",
       "3  53.0           Private  234721       11th              7   \n",
       "4  28.0           Private  338409  Bachelors             13   \n",
       "\n",
       "       marital-status         occupation   relationship   race  sex_selfID  \\\n",
       "0       Never-married       Adm-clerical  Not-in-family  White  Non-Female   \n",
       "1  Married-civ-spouse    Exec-managerial        Husband  White  Non-Female   \n",
       "2            Divorced  Handlers-cleaners  Not-in-family  White  Non-Female   \n",
       "3  Married-civ-spouse  Handlers-cleaners        Husband  Black  Non-Female   \n",
       "4  Married-civ-spouse     Prof-specialty           Wife  Black      Female   \n",
       "\n",
       "   capital-gain  capital-loss  hours-per-week native-country income_binary  \n",
       "0          2174             0            40.0  United-States         <=50K  \n",
       "1             0             0            13.0  United-States         <=50K  \n",
       "2             0             0            40.0  United-States         <=50K  \n",
       "3             0             0            40.0  United-States         <=50K  \n",
       "4             0             0            40.0           Cuba         <=50K  "
      ]
     },
     "execution_count": 31,
     "metadata": {},
     "output_type": "execute_result"
    }
   ],
   "source": [
    "# File names of the four data sets\n",
    "adultDataSet_filename = os.path.join(os.getcwd(), \"data\", \"censusData.csv\")\n",
    "airbnbDataSet_filename = os.path.join(os.getcwd(), \"data\", \"airbnbListingsData.csv\")\n",
    "WHRDataSet_filename = os.path.join(os.getcwd(), \"data\", \"WHR2018Chapter2OnlineData.csv\")\n",
    "bookReviewDataSet_filename = os.path.join(os.getcwd(), \"data\", \"bookReviewsData.csv\")\n",
    "\n",
    "\n",
    "df = pd.read_csv(adultDataSet_filename)\n",
    "\n",
    "df.head()"
   ]
  },
  {
   "cell_type": "markdown",
   "metadata": {},
   "source": [
    "## Part 2: Define Your ML Problem\n",
    "\n",
    "Next you will formulate your ML Problem. In the markdown cell below, answer the following questions:\n",
    "\n",
    "1. List the data set you have chosen.\n",
    "2. What will you be predicting? What is the label?\n",
    "3. Is this a supervised or unsupervised learning problem? Is this a clustering, classification or regression problem? Is it a binary classificaiton or multi-class classifiction problem?\n",
    "4. What are your features? (note: this list may change after your explore your data)\n",
    "5. Explain why this is an important problem. In other words, how would a company create value with a model that predicts this label?"
   ]
  },
  {
   "cell_type": "markdown",
   "metadata": {},
   "source": [
    "1. I chose the \"census\" dataset containing Census information from 1994.\n",
    "   \n",
    "2. We will be predicting the occupation of individuals. The label is occupation.\n",
    "\n",
    "3. This is a supervised learning problem. It is a multi-class classification problem because the target variable, occupation, has multiple distinct categories that need to be predicted. In this context, the possible occupations are not just two categories (which would make it a binary classification problem) but rather a variety of different job roles such as Adm-clerical, Exec-managerial, Handlers-cleaners, and so on. The job roles are categorical, meaning they are distinct and not ordinal or numerical.\n",
    "\n",
    "\n",
    "4. Here are some features I am considering: race,\n",
    "education,\n",
    "age (could provide useful context),\n",
    "workclass (could add context on job types),\n",
    "marital-status (could impact job type),\n",
    "relationship (could provide useful context),\n",
    "sex_selfID (gender might influence occupation distribution),\n",
    "hours-per-week (work hours might influence occupation),\n",
    "native-country (could provide geographic context, immigration?)\n",
    "   \n",
    "5.  Predicting occupation based on race and education can provide insights into occupational disparities and help identify areas where there might be systemic biases or inequalities. This information can be valuable for policymakers, organizations aiming to promote diversity and inclusion, and researchers studying labor market trends."
   ]
  },
  {
   "cell_type": "markdown",
   "metadata": {},
   "source": [
    "## Part 3: Understand Your Data\n",
    "\n",
    "The next step is to perform exploratory data analysis. Inspect and analyze your data set with your machine learning problem in mind. Consider the following as you inspect your data:\n",
    "\n",
    "1. What data preparation techniques would you like to use? These data preparation techniques may include:\n",
    "\n",
    "    * addressing missingness, such as replacing missing values with means\n",
    "    * finding and replacing outliers\n",
    "    * renaming features and labels\n",
    "    * finding and replacing outliers\n",
    "    * performing feature engineering techniques such as one-hot encoding on categorical features\n",
    "    * selecting appropriate features and removing irrelevant features\n",
    "    * performing specific data cleaning and preprocessing techniques for an NLP problem\n",
    "    * addressing class imbalance in your data sample to promote fair AI\n",
    "    \n",
    "\n",
    "2. What machine learning model (or models) you would like to use that is suitable for your predictive problem and data?\n",
    "    * Are there other data preparation techniques that you will need to apply to build a balanced modeling data set for your problem and model? For example, will you need to scale your data?\n",
    " \n",
    " \n",
    "3. How will you evaluate and improve the model's performance?\n",
    "    * Are there specific evaluation metrics and methods that are appropriate for your model?\n",
    "    \n",
    "\n",
    "Think of the different techniques you have used to inspect and analyze your data in this course. These include using Pandas to apply data filters, using the Pandas `describe()` method to get insight into key statistics for each column, using the Pandas `dtypes` property to inspect the data type of each column, and using Matplotlib and Seaborn to detect outliers and visualize relationships between features and labels. If you are working on a classification problem, use techniques you have learned to determine if there is class imbalance.\n",
    "\n",
    "<b>Task</b>: Use the techniques you have learned in this course to inspect and analyze your data. You can import additional packages that you have used in this course that you will need to perform this task.\n",
    "\n",
    "<b>Note</b>: You can add code cells if needed by going to the <b>Insert</b> menu and clicking on <b>Insert Cell Below</b> in the drop-drown menu."
   ]
  },
  {
   "cell_type": "code",
   "execution_count": 32,
   "metadata": {},
   "outputs": [
    {
     "name": "stdout",
     "output_type": "stream",
     "text": [
      "<class 'pandas.core.frame.DataFrame'>\n",
      "RangeIndex: 32561 entries, 0 to 32560\n",
      "Data columns (total 15 columns):\n",
      " #   Column          Non-Null Count  Dtype  \n",
      "---  ------          --------------  -----  \n",
      " 0   age             32399 non-null  float64\n",
      " 1   workclass       30725 non-null  object \n",
      " 2   fnlwgt          32561 non-null  int64  \n",
      " 3   education       32561 non-null  object \n",
      " 4   education-num   32561 non-null  int64  \n",
      " 5   marital-status  32561 non-null  object \n",
      " 6   occupation      30718 non-null  object \n",
      " 7   relationship    32561 non-null  object \n",
      " 8   race            32561 non-null  object \n",
      " 9   sex_selfID      32561 non-null  object \n",
      " 10  capital-gain    32561 non-null  int64  \n",
      " 11  capital-loss    32561 non-null  int64  \n",
      " 12  hours-per-week  32236 non-null  float64\n",
      " 13  native-country  31978 non-null  object \n",
      " 14  income_binary   32561 non-null  object \n",
      "dtypes: float64(2), int64(4), object(9)\n",
      "memory usage: 3.7+ MB\n",
      "None\n"
     ]
    }
   ],
   "source": [
    "print(df.info())"
   ]
  },
  {
   "cell_type": "code",
   "execution_count": 33,
   "metadata": {},
   "outputs": [
    {
     "name": "stdout",
     "output_type": "stream",
     "text": [
      "age                162\n",
      "workclass         1836\n",
      "fnlwgt               0\n",
      "education            0\n",
      "education-num        0\n",
      "marital-status       0\n",
      "occupation        1843\n",
      "relationship         0\n",
      "race                 0\n",
      "sex_selfID           0\n",
      "capital-gain         0\n",
      "capital-loss         0\n",
      "hours-per-week     325\n",
      "native-country     583\n",
      "income_binary        0\n",
      "dtype: int64\n"
     ]
    }
   ],
   "source": [
    "print(df.isnull().sum())"
   ]
  },
  {
   "cell_type": "code",
   "execution_count": 34,
   "metadata": {},
   "outputs": [
    {
     "name": "stdout",
     "output_type": "stream",
     "text": [
      "                age        fnlwgt  education-num  capital-gain  capital-loss  \\\n",
      "count  32399.000000  3.256100e+04   32561.000000  32561.000000  32561.000000   \n",
      "mean      38.589216  1.897784e+05      10.080679    615.907773     87.303830   \n",
      "std       13.647862  1.055500e+05       2.572720   2420.191974    402.960219   \n",
      "min       17.000000  1.228500e+04       1.000000      0.000000      0.000000   \n",
      "25%       28.000000  1.178270e+05       9.000000      0.000000      0.000000   \n",
      "50%       37.000000  1.783560e+05      10.000000      0.000000      0.000000   \n",
      "75%       48.000000  2.370510e+05      12.000000      0.000000      0.000000   \n",
      "max       90.000000  1.484705e+06      16.000000  14084.000000   4356.000000   \n",
      "\n",
      "       hours-per-week  \n",
      "count    32236.000000  \n",
      "mean        40.450428  \n",
      "std         12.353748  \n",
      "min          1.000000  \n",
      "25%         40.000000  \n",
      "50%         40.000000  \n",
      "75%         45.000000  \n",
      "max         99.000000  \n"
     ]
    }
   ],
   "source": [
    "print(df.describe())"
   ]
  },
  {
   "cell_type": "code",
   "execution_count": 35,
   "metadata": {},
   "outputs": [
    {
     "data": {
      "image/png": "[encoded data removed]",
      "text/plain": [
       "<Figure size 1200x600 with 1 Axes>"
      ]
     },
     "metadata": {},
     "output_type": "display_data"
    }
   ],
   "source": [
    "plt.figure(figsize=(12, 6))\n",
    "sns.countplot(y='occupation', data=df, order=df['occupation'].value_counts().index)\n",
    "plt.title('Distribution of Occupation')\n",
    "plt.show()"
   ]
  },
  {
   "cell_type": "markdown",
   "metadata": {},
   "source": [
    "## Part 4: Define Your Project Plan\n",
    "\n",
    "Now that you understand your data, in the markdown cell below, define your plan to implement the remaining phases of the machine learning life cycle (data preparation, modeling, evaluation) to solve your ML problem. Answer the following questions:\n",
    "\n",
    "* Do you have a new feature list? If so, what are the features that you chose to keep and remove after inspecting the data? \n",
    "* Explain different data preparation techniques that you will use to prepare your data for modeling.\n",
    "* What is your model (or models)?\n",
    "* Describe your plan to train your model, analyze its performance and then improve the model. That is, describe your model building, validation and selection plan to produce a model that generalizes well to new data. "
   ]
  },
  {
   "cell_type": "markdown",
   "metadata": {},
   "source": [
    "1. I did not change my feature list, although I did originally have the thought of only using occupation, race, gender and education after inspecting the data I realized that there are not a lot of nulls in these other features but there is a lot of nulls in occupation which is why I am to make this my label to predict. Update: After making some changes and testing I removed native-country.\n",
    "\n",
    "2. I will take the following steps where applicable. \n",
    "Handling Missing Values: Replace missing values with appropriate measures such as the mean for numerical data or the most frequent value for categorical data.\n",
    "One-Hot Encoding: workclass\n",
    "education\n",
    "marital-status\n",
    "relationship\n",
    "race\n",
    "sex_selfID\n",
    "native-country\n",
    "income_binary\n",
    "These columns are one-hot encoded because they are categorical variables and machine learning models require numerical inputs.\n",
    "Outlier Detection: Identify and potentially handle outliers in numerical features.\n",
    "\n",
    "3. The primary model I will use is the Random Forest Classifier due to its balance of interpretability, performance, and ease of tuning. Becuase of my lack of computational power I prefer Random Forest but, I may also explore the Gradient Boosting Classifier for potentially better performance.\n",
    "\n",
    "4. Based on what we have learned in class I will split part 5 into 3 smaller parts which consist of:\n",
    "- Building:\n",
    "Clean data\n",
    "Split the data into training and validation sets.\n",
    "Train a Random Forest Classifier on the training set.\n",
    "Evaluate the initial performance on the validation set.\n",
    "- Model Analysis:\n",
    "Analyze feature importance to understand which features contribute the most to the prediction.\n",
    "Evaluate model performance using accuracy, precision, recall, and F1-score.\n",
    "- Model Improvement:\n",
    "Perform hyperparameter tuning using techniques such as grid search or random search to find the best model parameters.\n",
    "Experiment with additional models such as Gradient Boosting Classifier to compare performance.\n",
    "Apply feature selection techniques to remove irrelevant or redundant features.\n",
    "Use cross-validation to ensure the model generalizes well to unseen data.\n"
   ]
  },
  {
   "cell_type": "markdown",
   "metadata": {},
   "source": [
    "## Part 5: Implement Your Project Plan\n",
    "\n",
    "<b>Task:</b> In the code cell below, import additional packages that you have used in this course that you will need to implement your project plan."
   ]
  },
  {
   "cell_type": "code",
   "execution_count": 36,
   "metadata": {},
   "outputs": [],
   "source": [
    "from sklearn.ensemble import RandomForestClassifier, GradientBoostingClassifier, VotingClassifier\n",
    "from sklearn.model_selection import train_test_split, GridSearchCV\n",
    "from sklearn.metrics import classification_report, accuracy_score\n",
    "from sklearn.preprocessing import StandardScaler\n"
   ]
  },
  {
   "cell_type": "markdown",
   "metadata": {},
   "source": [
    "<b>Task:</b> Use the rest of this notebook to carry out your project plan. \n",
    "\n",
    "You will:\n",
    "\n",
    "1. Prepare your data for your model.\n",
    "2. Fit your model to the training data and evaluate your model.\n",
    "3. Improve your model's performance by performing model selection and/or feature selection techniques to find best model for your problem.\n",
    "\n",
    "Add code cells below and populate the notebook with commentary, code, analyses, results, and figures as you see fit. "
   ]
  },
  {
   "cell_type": "code",
   "execution_count": 37,
   "metadata": {},
   "outputs": [],
   "source": [
    "# Handling missing values\n",
    "df['age'].fillna(df['age'].mean(), inplace=True)\n",
    "df['workclass'].fillna(df['workclass'].mode()[0], inplace=True)\n",
    "df['occupation'].fillna(df['occupation'].mode()[0], inplace=True)\n",
    "df['hours-per-week'].fillna(df['hours-per-week'].mean(), inplace=True)\n",
    "df.drop(['native-country'], axis=1, inplace=True)"
   ]
  },
  {
   "cell_type": "code",
   "execution_count": 38,
   "metadata": {},
   "outputs": [],
   "source": [
    "# One-Hot Encoding\n",
    "df = pd.get_dummies(df, columns=['workclass', 'education', 'marital-status', 'relationship', 'race', 'sex_selfID', 'income_binary'], drop_first=True)"
   ]
  },
  {
   "cell_type": "code",
   "execution_count": 39,
   "metadata": {},
   "outputs": [],
   "source": [
    "# Scaling numerical features\n",
    "scaler = StandardScaler()\n",
    "df[['age', 'hours-per-week']] = scaler.fit_transform(df[['age', 'hours-per-week']])"
   ]
  },
  {
   "cell_type": "code",
   "execution_count": 40,
   "metadata": {},
   "outputs": [],
   "source": [
    "# Define features and label\n",
    "X = df.drop('occupation', axis=1)\n",
    "y = df['occupation']"
   ]
  },
  {
   "cell_type": "code",
   "execution_count": 41,
   "metadata": {},
   "outputs": [],
   "source": [
    "# Split the data into training and validation sets\n",
    "X_train, X_val, y_train, y_val = train_test_split(X, y, test_size=0.2, random_state=42)"
   ]
  },
  {
   "cell_type": "code",
   "execution_count": 42,
   "metadata": {},
   "outputs": [
    {
     "name": "stdout",
     "output_type": "stream",
     "text": [
      "Fitting 3 folds for each of 32 candidates, totalling 96 fits\n",
      "[CV] END bootstrap=True, max_depth=10, min_samples_leaf=1, min_samples_split=5, n_estimators=100; total time=   1.4s\n",
      "[CV] END bootstrap=True, max_depth=10, min_samples_leaf=2, min_samples_split=2, n_estimators=100; total time=   1.3s\n",
      "[CV] END bootstrap=True, max_depth=10, min_samples_leaf=2, min_samples_split=2, n_estimators=200; total time=   2.7s\n",
      "[CV] END bootstrap=True, max_depth=20, min_samples_leaf=1, min_samples_split=2, n_estimators=200; total time=   5.1s\n",
      "[CV] END bootstrap=True, max_depth=20, min_samples_leaf=2, min_samples_split=2, n_estimators=200; total time=   3.9s\n",
      "[CV] END bootstrap=False, max_depth=10, min_samples_leaf=1, min_samples_split=2, n_estimators=100; total time=   1.6s\n",
      "[CV] END bootstrap=False, max_depth=10, min_samples_leaf=1, min_samples_split=5, n_estimators=100; total time=   1.6s\n",
      "[CV] END bootstrap=False, max_depth=10, min_samples_leaf=1, min_samples_split=5, n_estimators=200; total time=   3.2s\n",
      "[CV] END bootstrap=False, max_depth=10, min_samples_leaf=2, min_samples_split=5, n_estimators=200; total time=   3.2s\n",
      "[CV] END bootstrap=False, max_depth=20, min_samples_leaf=1, min_samples_split=5, n_estimators=100; total time=   2.9s\n",
      "[CV] END bootstrap=False, max_depth=20, min_samples_leaf=1, min_samples_split=5, n_estimators=200; total time=   5.7s\n",
      "[CV] END bootstrap=False, max_depth=20, min_samples_leaf=2, min_samples_split=5, n_estimators=200; total time=   4.0s\n",
      "[CV] END bootstrap=True, max_depth=10, min_samples_leaf=1, min_samples_split=5, n_estimators=100; total time=   1.4s\n",
      "[CV] END bootstrap=True, max_depth=10, min_samples_leaf=1, min_samples_split=5, n_estimators=200; total time=   2.7s\n",
      "[CV] END bootstrap=True, max_depth=10, min_samples_leaf=2, min_samples_split=5, n_estimators=200; total time=   2.6s\n",
      "[CV] END bootstrap=True, max_depth=20, min_samples_leaf=1, min_samples_split=2, n_estimators=200; total time=   4.8s\n"
     ]
    },
    {
     "name": "stderr",
     "output_type": "stream",
     "text": [
      "/home/ubuntu/.pyenv/versions/3.9.19/lib/python3.9/site-packages/joblib/externals/loky/process_executor.py:752: UserWarning: A worker stopped while some jobs were given to the executor. This can be caused by a too short worker timeout or by a memory leak.\n",
      "  warnings.warn(\n"
     ]
    },
    {
     "name": "stdout",
     "output_type": "stream",
     "text": [
      "Best parameters: {'bootstrap': True, 'max_depth': 20, 'min_samples_leaf': 2, 'min_samples_split': 5, 'n_estimators': 200}\n"
     ]
    }
   ],
   "source": [
    "# Define the parameter grid\n",
    "param_grid = {\n",
    "    'n_estimators': [100, 200],\n",
    "    'max_depth': [10, 20],\n",
    "    'min_samples_split': [2, 5],\n",
    "    'min_samples_leaf': [1, 2],\n",
    "    'bootstrap': [True, False]\n",
    "}\n",
    "\n",
    "# Create a base model\n",
    "rf = RandomForestClassifier(random_state=42)\n",
    "\n",
    "# Instantiate the grid search model\n",
    "grid_search = GridSearchCV(estimator=rf, param_grid=param_grid,\n",
    "                           cv=3, n_jobs=-1, verbose=2, scoring='accuracy')\n",
    "\n",
    "# Fit the grid search to the data\n",
    "grid_search.fit(X_train, y_train)\n",
    "\n",
    "print(f\"Best parameters: {grid_search.best_params_}\")\n",
    "best_grid = grid_search.best_estimator_\n",
    "\n",
    "# Predict on the validation set using the best model\n",
    "y_pred_best = best_grid.predict(X_val)"
   ]
  },
  {
   "cell_type": "code",
   "execution_count": 43,
   "metadata": {},
   "outputs": [
    {
     "name": "stdout",
     "output_type": "stream",
     "text": [
      "Improved Accuracy: 0.3446952249347459\n",
      "Improved Classification Report:\n",
      "                    precision    recall  f1-score   support\n",
      "\n",
      "     Adm-clerical       0.34      0.48      0.40       726\n",
      "     Armed-Forces       0.00      0.00      0.00         3\n",
      "     Craft-repair       0.28      0.67      0.40       821\n",
      "  Exec-managerial       0.34      0.30      0.32       838\n",
      "  Farming-fishing       0.39      0.23      0.29       193\n",
      "Handlers-cleaners       0.20      0.07      0.10       273\n",
      "Machine-op-inspct       0.18      0.05      0.08       378\n",
      "    Other-service       0.32      0.34      0.33       667\n",
      "  Priv-house-serv       0.00      0.00      0.00        26\n",
      "   Prof-specialty       0.48      0.56      0.52      1217\n",
      "  Protective-serv       0.39      0.26      0.31       136\n",
      "            Sales       0.29      0.09      0.13       729\n",
      "     Tech-support       0.00      0.00      0.00       189\n",
      " Transport-moving       0.23      0.04      0.07       317\n",
      "\n",
      "         accuracy                           0.34      6513\n",
      "        macro avg       0.25      0.22      0.21      6513\n",
      "     weighted avg       0.32      0.34      0.31      6513\n",
      "\n"
     ]
    },
    {
     "name": "stderr",
     "output_type": "stream",
     "text": [
      "/home/ubuntu/.pyenv/versions/3.9.19/lib/python3.9/site-packages/sklearn/metrics/_classification.py:1509: UndefinedMetricWarning: Precision is ill-defined and being set to 0.0 in labels with no predicted samples. Use `zero_division` parameter to control this behavior.\n",
      "  _warn_prf(average, modifier, f\"{metric.capitalize()} is\", len(result))\n",
      "/home/ubuntu/.pyenv/versions/3.9.19/lib/python3.9/site-packages/sklearn/metrics/_classification.py:1509: UndefinedMetricWarning: Precision is ill-defined and being set to 0.0 in labels with no predicted samples. Use `zero_division` parameter to control this behavior.\n",
      "  _warn_prf(average, modifier, f\"{metric.capitalize()} is\", len(result))\n",
      "/home/ubuntu/.pyenv/versions/3.9.19/lib/python3.9/site-packages/sklearn/metrics/_classification.py:1509: UndefinedMetricWarning: Precision is ill-defined and being set to 0.0 in labels with no predicted samples. Use `zero_division` parameter to control this behavior.\n",
      "  _warn_prf(average, modifier, f\"{metric.capitalize()} is\", len(result))\n"
     ]
    }
   ],
   "source": [
    "# Evaluate the model\n",
    "print(\"Improved Accuracy:\", accuracy_score(y_val, y_pred_best))\n",
    "print(\"Improved Classification Report:\\n\", classification_report(y_val, y_pred_best))"
   ]
  },
  {
   "cell_type": "code",
   "execution_count": 44,
   "metadata": {},
   "outputs": [],
   "source": [
    "# # Train a Random Forest Classifier with class weights\n",
    "# model_weighted = RandomForestClassifier(random_state=42, class_weight='balanced')\n",
    "# model_weighted.fit(X_train, y_train)\n",
    "\n",
    "# # Predict on the validation set\n",
    "# y_pred_weighted = model_weighted.predict(X_val)"
   ]
  },
  {
   "cell_type": "code",
   "execution_count": 45,
   "metadata": {},
   "outputs": [],
   "source": [
    "# # Evaluate the model\n",
    "# print(\"Weighted Accuracy:\", accuracy_score(y_val, y_pred_weighted))\n",
    "# print(\"Weighted Classification Report:\\n\", classification_report(y_val, y_pred_weighted))\n"
   ]
  },
  {
   "cell_type": "code",
   "execution_count": 46,
   "metadata": {},
   "outputs": [
    {
     "name": "stdout",
     "output_type": "stream",
     "text": [
      "Feature Importances:\n",
      "                                  Feature  Importance\n",
      "1                                 fnlwgt    0.137691\n",
      "0                                    age    0.136427\n",
      "5                         hours-per-week    0.120603\n",
      "2                          education-num    0.110300\n",
      "43                 sex_selfID_Non-Female    0.067151\n",
      "44                    income_binary_>50K    0.027668\n",
      "8                      workclass_Private    0.026320\n",
      "3                           capital-gain    0.024553\n",
      "21                   education_Bachelors    0.024334\n",
      "6                    workclass_Local-gov    0.022287\n",
      "23                     education_HS-grad    0.020396\n",
      "10            workclass_Self-emp-not-inc    0.019899\n",
      "24                     education_Masters    0.019045\n",
      "29     marital-status_Married-civ-spouse    0.018755\n",
      "31          marital-status_Never-married    0.016900\n",
      "42                            race_White    0.016476\n",
      "4                           capital-loss    0.014909\n",
      "26                 education_Prof-school    0.014420\n",
      "34            relationship_Not-in-family    0.014178\n",
      "9                 workclass_Self-emp-inc    0.013558\n",
      "27                education_Some-college    0.013388\n",
      "40                            race_Black    0.013150\n",
      "36                relationship_Own-child    0.011311\n",
      "37                relationship_Unmarried    0.010113\n",
      "22                   education_Doctorate    0.009836\n",
      "11                   workclass_State-gov    0.009546\n",
      "38                     relationship_Wife    0.007415\n",
      "39               race_Asian-Pac-Islander    0.007139\n",
      "35           relationship_Other-relative    0.006044\n",
      "20                   education_Assoc-voc    0.005980\n",
      "32              marital-status_Separated    0.005804\n",
      "33                marital-status_Widowed    0.005580\n",
      "19                  education_Assoc-acdm    0.005289\n",
      "13                        education_11th    0.004682\n",
      "17                     education_7th-8th    0.003982\n",
      "30  marital-status_Married-spouse-absent    0.003020\n",
      "18                         education_9th    0.002953\n",
      "16                     education_5th-6th    0.002457\n",
      "14                        education_12th    0.002228\n",
      "41                            race_Other    0.002129\n",
      "15                     education_1st-4th    0.001259\n",
      "25                   education_Preschool    0.000431\n",
      "7                 workclass_Never-worked    0.000151\n",
      "12                 workclass_Without-pay    0.000149\n",
      "28      marital-status_Married-AF-spouse    0.000092\n"
     ]
    }
   ],
   "source": [
    "# Feature Importance\n",
    "importances = best_grid.feature_importances_\n",
    "feature_names = X.columns\n",
    "importance_df = pd.DataFrame({'Feature': feature_names, 'Importance': importances})\n",
    "importance_df = importance_df.sort_values(by='Importance', ascending=False)\n",
    "print(\"Feature Importances:\\n\", importance_df)"
   ]
  },
  {
   "cell_type": "code",
   "execution_count": 47,
   "metadata": {},
   "outputs": [
    {
     "name": "stdout",
     "output_type": "stream",
     "text": [
      "Gradient Boosting Accuracy: 0.34623061569169356\n",
      "Gradient Boosting Classification Report:\n",
      "                    precision    recall  f1-score   support\n",
      "\n",
      "     Adm-clerical       0.34      0.48      0.40       726\n",
      "     Armed-Forces       0.00      0.00      0.00         3\n",
      "     Craft-repair       0.29      0.66      0.40       821\n",
      "  Exec-managerial       0.36      0.32      0.34       838\n",
      "  Farming-fishing       0.35      0.24      0.29       193\n",
      "Handlers-cleaners       0.27      0.11      0.15       273\n",
      "Machine-op-inspct       0.18      0.04      0.06       378\n",
      "    Other-service       0.31      0.32      0.31       667\n",
      "  Priv-house-serv       0.08      0.04      0.05        26\n",
      "   Prof-specialty       0.48      0.54      0.51      1217\n",
      "  Protective-serv       0.34      0.32      0.33       136\n",
      "            Sales       0.27      0.08      0.12       729\n",
      "     Tech-support       0.00      0.00      0.00       189\n",
      " Transport-moving       0.29      0.09      0.14       317\n",
      "\n",
      "         accuracy                           0.35      6513\n",
      "        macro avg       0.25      0.23      0.22      6513\n",
      "     weighted avg       0.33      0.35      0.31      6513\n",
      "\n"
     ]
    }
   ],
   "source": [
    "# Version 2 method to improve preformance\n",
    "# Train a Gradient Boosting Classifier\n",
    "gb = GradientBoostingClassifier(random_state=42)\n",
    "gb.fit(X_train, y_train)\n",
    "\n",
    "# Predict on the validation set using the Gradient Boosting model\n",
    "y_pred_gb = gb.predict(X_val)\n",
    "print(\"Gradient Boosting Accuracy:\", accuracy_score(y_val, y_pred_gb))\n",
    "print(\"Gradient Boosting Classification Report:\\n\", classification_report(y_val, y_pred_gb))\n"
   ]
  },
  {
   "cell_type": "code",
   "execution_count": 48,
   "metadata": {},
   "outputs": [
    {
     "name": "stdout",
     "output_type": "stream",
     "text": [
      "Voting Classifier Accuracy: 0.3463841547673883\n",
      "Voting Classifier Classification Report:\n",
      "                    precision    recall  f1-score   support\n",
      "\n",
      "     Adm-clerical       0.34      0.48      0.40       726\n",
      "     Armed-Forces       0.00      0.00      0.00         3\n",
      "     Craft-repair       0.28      0.67      0.40       821\n",
      "  Exec-managerial       0.37      0.31      0.34       838\n",
      "  Farming-fishing       0.37      0.25      0.30       193\n",
      "Handlers-cleaners       0.23      0.08      0.12       273\n",
      "Machine-op-inspct       0.15      0.03      0.05       378\n",
      "    Other-service       0.31      0.34      0.32       667\n",
      "  Priv-house-serv       0.08      0.04      0.05        26\n",
      "   Prof-specialty       0.48      0.56      0.51      1217\n",
      "  Protective-serv       0.37      0.31      0.34       136\n",
      "            Sales       0.28      0.07      0.11       729\n",
      "     Tech-support       0.00      0.00      0.00       189\n",
      " Transport-moving       0.27      0.07      0.11       317\n",
      "\n",
      "         accuracy                           0.35      6513\n",
      "        macro avg       0.25      0.23      0.22      6513\n",
      "     weighted avg       0.32      0.35      0.31      6513\n",
      "\n"
     ]
    }
   ],
   "source": [
    "# Combine the best models into a voting classifier\n",
    "voting_clf = VotingClassifier(estimators=[\n",
    "    ('rf', best_grid), \n",
    "    ('gb', gb)\n",
    "], voting='soft')\n",
    "\n",
    "# Train the voting classifier\n",
    "voting_clf.fit(X_train, y_train)\n",
    "\n",
    "# Predict on the validation set using the voting classifier\n",
    "y_pred_voting = voting_clf.predict(X_val)\n",
    "\n",
    "# Evaluate the model\n",
    "print(\"Voting Classifier Accuracy:\", accuracy_score(y_val, y_pred_voting))\n",
    "print(\"Voting Classifier Classification Report:\\n\", classification_report(y_val, y_pred_voting))\n"
   ]
  },
  {
   "cell_type": "code",
   "execution_count": null,
   "metadata": {},
   "outputs": [],
   "source": [
    "#Summary of results\n",
    "Random Forest Classifier:\n",
    "\n",
    "Best Parameters: {'bootstrap': True, 'max_depth': 20, 'min_samples_leaf': 2, 'min_samples_split': 5, 'n_estimators': 200}\n",
    "Accuracy: 0.3447\n",
    "Classification Report: Showed varying precision, recall, and f1-scores across different occupation classes, with higher scores for more frequent classes like \"Adm-clerical\" and \"Prof-specialty\".\n",
    "Gradient Boosting Classifier:\n",
    "\n",
    "Accuracy: 0.3462\n",
    "Classification Report: Similar to the Random Forest, with slight improvements in some classes.\n",
    "Voting Classifier (Ensemble Method):\n",
    "\n",
    "Accuracy: 0.3464\n",
    "Classification Report: Slight improvement in accuracy compared to individual models. It combined predictions from both the Random Forest and Gradient Boosting models.\n"
   ]
  },
  {
   "cell_type": "code",
   "execution_count": null,
   "metadata": {},
   "outputs": [],
   "source": [
    "The Voting Classifier achieved the highest accuracy (0.3464) among the models tested, indicating a slight improvement by combining the strengths of the Random Forest and Gradient Boosting models.\n",
    "However, the overall accuracy and f1-scores suggest that the model struggles with several classes, especially those with fewer samples (e.g., \"Armed-Forces\", \"Priv-house-serv\", \"Tech-support\").\n",
    "Against my inital prediction the importance analysis showed that features like age, and hours-per-week were the most influential in the model's predictions.\n",
    "While the ensemble method provided a slight improvement, the overall performance is still relatively low. This might be due to the complexity of the classification task and imbalances in the dataset.\n",
    "As next steps I would create more meaningful features or aggregate existing ones to capture more information."
   ]
  }
 ],
 "metadata": {
  "kernelspec": {
   "display_name": "Python 3 (ipykernel)",
   "language": "python",
   "name": "python3"
  },
  "language_info": {
   "codemirror_mode": {
    "name": "ipython",
    "version": 3
   },
   "file_extension": ".py",
   "mimetype": "text/x-python",
   "name": "python",
   "nbconvert_exporter": "python",
   "pygments_lexer": "ipython3",
   "version": "3.9.19"
  },
  "toc": {
   "base_numbering": 1,
   "nav_menu": {},
   "number_sections": false,
   "sideBar": true,
   "skip_h1_title": false,
   "title_cell": "Table of Contents",
   "title_sidebar": "Contents",
   "toc_cell": false,
   "toc_position": {},
   "toc_section_display": true,
   "toc_window_display": false
  },
  "varInspector": {
   "cols": {
    "lenName": 16,
    "lenType": 16,
    "lenVar": 40
   },
   "kernels_config": {
    "python": {
     "delete_cmd_postfix": "",
     "delete_cmd_prefix": "del ",
     "library": "var_list.py",
     "varRefreshCmd": "print(var_dic_list())"
    },
    "r": {
     "delete_cmd_postfix": ") ",
     "delete_cmd_prefix": "rm(",
     "library": "var_list.r",
     "varRefreshCmd": "cat(var_dic_list()) "
    }
   },
   "types_to_exclude": [
    "module",
    "function",
    "builtin_function_or_method",
    "instance",
    "_Feature"
   ],
   "window_display": false
  }
 },
 "nbformat": 4,
 "nbformat_minor": 4
}
